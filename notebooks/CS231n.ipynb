{
 "metadata": {
  "name": ""
 },
 "nbformat": 3,
 "nbformat_minor": 0,
 "worksheets": [
  {
   "cells": [
    {
     "cell_type": "code",
     "collapsed": false,
     "input": [
      "import numpy as np\n",
      "\n",
      "class NearestNeighbor:\n",
      "  def __init__(self):\n",
      "    pass\n",
      "\n",
      "  def train(self, X, y):\n",
      "    \"\"\" X is N x D where each row is an example. Y is 1-dimension of size N \"\"\"\n",
      "    # the nearest neighbor classifier simply remembers all the training data\n",
      "    self.Xtr = X\n",
      "    self.ytr = y\n",
      "\n",
      "  def predict(self, X):\n",
      "    \"\"\" X is N x D where each row is an example we wish to predict label for \"\"\"\n",
      "    num_test = X.shape[0]\n",
      "    # lets make sure that the output type matches the input type\n",
      "    Ypred = np.zeros(num_test, dtype = self.ytr.dtype)\n",
      "\n",
      "    # loop over all test rows\n",
      "    for i in xrange(num_test):\n",
      "      # find the nearest training image to the i'th test image\n",
      "      # using the L1 distance (sum of absolute value differences)\n",
      "      distances = np.sum(np.abs(self.Xtr - X[i,:]), axis = 1)\n",
      "      min_index = np.argmin(distances) # get the index with smallest distance\n",
      "      Ypred[i] = self.ytr[min_index] # predict the label of the nearest example\n",
      "\n",
      "    return Ypred\n",
      "\n",
      "Xtr, Ytr, Xte, Yte = load_CIFAR10('data/cifar10/') # a magic function we provide\n",
      "# flatten out all images to be one-dimensional\n",
      "Xtr_rows = Xtr.reshape(Xtr.shape[0], 32 * 32 * 3) # Xtr_rows becomes 50000 x 3072\n",
      "Xte_rows = Xte.reshape(Xte.shape[0], 32 * 32 * 3) # Xte_rows becomes 10000 x 3072\n",
      "\n",
      "nn = NearestNeighbor() # create a Nearest Neighbor classifier class\n",
      "nn.train(Xtr_rows, Ytr) # train the classifier on the training images and labels\n",
      "Yte_predict = nn.predict(Xte_rows) # predict labels on the test images\n",
      "# and now print the classification accuracy, which is the average number\n",
      "# of examples that are correctly predicted (i.e. label matches)\n",
      "print 'accuracy: %f' % ( np.mean(Yte_predict == Yte) )\n"
     ],
     "language": "python",
     "metadata": {},
     "outputs": []
    }
   ],
   "metadata": {}
  }
 ]
}